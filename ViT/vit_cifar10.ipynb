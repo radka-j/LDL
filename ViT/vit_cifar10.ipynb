{
 "cells": [
  {
   "cell_type": "markdown",
   "metadata": {},
   "source": [
    "Based on:\n",
    "- https://github.com/NielsRogge/Transformers-Tutorials/blob/master/VisionTransformer/Fine_tuning_the_Vision_Transformer_on_CIFAR_10_with_PyTorch_Lightning.ipynb\n",
    "- https://lightning.ai/docs/pytorch/stable/notebooks/course_UvA-DL/11-vision-transformer.html"
   ]
  },
  {
   "cell_type": "markdown",
   "metadata": {},
   "source": [
    "## 0: Import libraries"
   ]
  },
  {
   "cell_type": "code",
   "execution_count": 1,
   "metadata": {},
   "outputs": [],
   "source": [
    "# logging\n",
    "import wandb\n",
    "from pytorch_lightning.loggers import WandbLogger\n",
    "\n",
    "# use HuggingFace to get data and pre-trained models\n",
    "from datasets import load_dataset\n",
    "from transformers import ViTImageProcessor, ViTForImageClassification\n",
    "\n",
    "# model training\n",
    "from torchvision import transforms\n",
    "from torch.utils.data import DataLoader\n",
    "import torch\n",
    "import torch.nn as nn\n",
    "import torch.optim as optim\n",
    "\n",
    "import pytorch_lightning as pl\n",
    "from pytorch_lightning import Trainer\n",
    "from pytorch_lightning.callbacks import EarlyStopping, LearningRateMonitor, ModelCheckpoint\n",
    "\n",
    "# plotting\n",
    "import matplotlib.pyplot as plt"
   ]
  },
  {
   "cell_type": "markdown",
   "metadata": {},
   "source": [
    "## 1: Load CIFAR10 data\n",
    "\n",
    "From HuggingFace"
   ]
  },
  {
   "cell_type": "code",
   "execution_count": 2,
   "metadata": {},
   "outputs": [],
   "source": [
    "# load cifar10 - the data is already split into a train and test set\n",
    "# (only load a small portion of each here for the example) \n",
    "train_ds, test_ds = load_dataset('cifar10', split=['train[:5000]', 'test[:2000]'])\n",
    "\n",
    "# split up training data into training + validation\n",
    "splits = train_ds.train_test_split(test_size=0.2)\n",
    "train_ds = splits['train']\n",
    "val_ds = splits['test']"
   ]
  },
  {
   "cell_type": "code",
   "execution_count": 3,
   "metadata": {},
   "outputs": [
    {
     "data": {
      "text/plain": [
       "{'img': <PIL.PngImagePlugin.PngImageFile image mode=RGB size=32x32>,\n",
       " 'label': 7}"
      ]
     },
     "execution_count": 3,
     "metadata": {},
     "output_type": "execute_result"
    }
   ],
   "source": [
    "# each data point is a dictionary with an image and a label\n",
    "train_ds[0]"
   ]
  },
  {
   "cell_type": "code",
   "execution_count": 4,
   "metadata": {},
   "outputs": [
    {
     "data": {
      "image/png": "[encoded data removed]",
      "text/plain": [
       "<Figure size 640x480 with 4 Axes>"
      ]
     },
     "metadata": {},
     "output_type": "display_data"
    }
   ],
   "source": [
    "# labels are provided as integer values\n",
    "# here we map those to the actual label names\n",
    "label_names = {id:label for id, label in enumerate(train_ds.features['label'].names)}\n",
    "\n",
    "fig, ax = plt.subplots(1, 4)\n",
    "for i in range(4):  \n",
    "    ax[i].imshow(train_ds[i]['img'])\n",
    "    ax[i].set_title(label_names[train_ds[i]['label']])"
   ]
  },
  {
   "cell_type": "markdown",
   "metadata": {},
   "source": [
    "## 2: Preprocess data\n",
    "\n",
    "All data must be resized to what the model expects (224x224). We also normalize the images and augment the training data (using a horizontal flip)."
   ]
  },
  {
   "cell_type": "code",
   "execution_count": 5,
   "metadata": {},
   "outputs": [],
   "source": [
    "# the ViT processor corresponds to the model we will use \n",
    "#   - it is pointed to the same checkpoint\n",
    "# it expects image of size 224x224 and creates patch sizes of 16x16\n",
    "processor = ViTImageProcessor.from_pretrained(\"google/vit-base-patch16-224-in21k\")\n",
    "image_mean = processor.image_mean\n",
    "image_std = processor.image_std\n",
    "size = processor.size[\"height\"]\n",
    "\n",
    "image_mean = processor.image_mean\n",
    "image_std = processor.image_std\n",
    "size = processor.size[\"height\"]"
   ]
  },
  {
   "cell_type": "code",
   "execution_count": 6,
   "metadata": {},
   "outputs": [],
   "source": [
    "# all data must be resized correctly to what the model expects\n",
    "\n",
    "# normalize all data to get better training performance\n",
    "# also use augmentation during training\n",
    "train_transforms = transforms.Compose(\n",
    "    [\n",
    "        transforms.RandomHorizontalFlip(),\n",
    "        transforms.RandomResizedCrop(size),\n",
    "        transforms.ToTensor(),\n",
    "        transforms.Normalize(image_mean, image_std)\n",
    "    ]\n",
    ")\n",
    "\n",
    "# no augmentation here\n",
    "test_transforms = transforms.Compose(\n",
    "    [\n",
    "        transforms.Resize(size),\n",
    "        transforms.CenterCrop(size),        \n",
    "        transforms.ToTensor(),\n",
    "        transforms.Normalize(image_mean, image_std)\n",
    "    ]\n",
    ")\n",
    "\n",
    "def apply_train_transforms(examples):\n",
    "    examples['pixel_values'] = [train_transforms(image.convert(\"RGB\")) for image in examples['img']]\n",
    "    return examples\n",
    "\n",
    "def apply_test_transforms(examples):\n",
    "    examples['pixel_values'] = [test_transforms(image.convert(\"RGB\")) for image in examples['img']]\n",
    "    return examples\n",
    "\n",
    "# dataset.set_transform\n",
    "# https://huggingface.co/docs/datasets/v1.11.0/package_reference/main_classes.html?highlight=set_format#datasets.Dataset.set_transform\n",
    "train_ds.set_transform(apply_train_transforms)\n",
    "val_ds.set_transform(apply_test_transforms)\n",
    "test_ds.set_transform(apply_test_transforms)"
   ]
  },
  {
   "cell_type": "markdown",
   "metadata": {},
   "source": [
    "## 3: Create DataLoaders\n",
    "\n",
    "Wrapper for something that can iterate over"
   ]
  },
  {
   "cell_type": "code",
   "execution_count": 7,
   "metadata": {},
   "outputs": [],
   "source": [
    "batch_size = 2\n",
    "\n",
    "def collate_fn(examples):\n",
    "    # created `pixel_values` as part of data transforms above\n",
    "    pixel_values = torch.stack([example[\"pixel_values\"] for example in examples])\n",
    "    labels = torch.tensor([example[\"label\"] for example in examples])\n",
    "    return {\"pixel_values\": pixel_values, \"labels\": labels}\n",
    "\n",
    "train_loader = DataLoader(train_ds, collate_fn=collate_fn, batch_size=batch_size, shuffle=True)\n",
    "val_loader = DataLoader(val_ds, collate_fn=collate_fn, batch_size=batch_size, shuffle=False)\n",
    "test_loader = DataLoader(test_ds, collate_fn=collate_fn, batch_size=batch_size, shuffle=False)"
   ]
  },
  {
   "cell_type": "code",
   "execution_count": 8,
   "metadata": {},
   "outputs": [
    {
     "name": "stdout",
     "output_type": "stream",
     "text": [
      "dict_keys(['pixel_values', 'labels'])\n",
      "pixel_values torch.Size([2, 3, 224, 224])\n",
      "labels torch.Size([2])\n"
     ]
    }
   ],
   "source": [
    "\n",
    "# each batch will have size 2 and is a dictionary of pixel_values and labels\n",
    "batch = next(iter(train_loader))\n",
    "\n",
    "print(batch.keys())\n",
    "\n",
    "for k,v in batch.items():\n",
    "    print(k, v.shape)"
   ]
  },
  {
   "cell_type": "markdown",
   "metadata": {},
   "source": [
    "## 4: Specify model\n",
    "\n",
    "Here we define a LightningModule, which is very similar to a regular nn.Module, but with some additional functionalities. It breaks down training into a number of core methods:\n",
    "- forward\n",
    "- training_step\n",
    "- validation_step\n",
    "- test_step\n",
    "- predict_step\n",
    "- configure_optimizers\n",
    "\n",
    "\n",
    "The model we use is: https://huggingface.co/google/vit-base-patch16-224-in21k\n",
    "- \"if you have a dataset of labeled images for instance, you can train a standard classifier by placing a linear layer on top of the pre-trained encoder. One typically places a linear layer on top of the [CLS] token, as the last hidden state of this token can be seen as a representation of an entire image.\"\n",
    "- most of the model weights are downloaded from the checkpoint except for the classification parameters ('classifier.bias', 'classifier.weight') - it is expected that one fine-tunes the model for a specific classification task\n"
   ]
  },
  {
   "cell_type": "code",
   "execution_count": 9,
   "metadata": {},
   "outputs": [],
   "source": [
    "id2label = {id:label for id, label in enumerate(train_ds.features['label'].names)}\n",
    "label2id = {label:id for id,label in id2label.items()}"
   ]
  },
  {
   "cell_type": "code",
   "execution_count": 10,
   "metadata": {},
   "outputs": [],
   "source": [
    "class ViTLightningModule(pl.LightningModule):\n",
    "    def __init__(self, num_labels=10, lr=3e-4):\n",
    "        super(ViTLightningModule, self).__init__()\n",
    "        # this saves any arguments passed to the init method in self.hparams\n",
    "        # in this case that's only `num_labels` and `lr`\n",
    "        self.save_hyperparameters()\n",
    "        print(\"hparams\", self.hparams)\n",
    "        # https://huggingface.co/docs/transformers/v4.47.1/en/model_doc/vit#transformers.ViTConfig\n",
    "        # https://huggingface.co/google/vit-base-patch16-224-in21k/blob/main/config.json\n",
    "        self.vit = ViTForImageClassification.from_pretrained('google/vit-base-patch16-224-in21k',\n",
    "                                                              num_labels=num_labels,\n",
    "                                                              id2label=id2label,\n",
    "                                                              label2id=label2id)\n",
    "\n",
    "    def forward(self, pixel_values):\n",
    "        # inside the vit forward method the image is transformed into patches and then\n",
    "        # the CLS token and positional embeddings are concatenated with the patches\n",
    "        # this is passed through the transformer and then the transformed class token is \n",
    "        # passed through a linear layer and the output of that is what is returned here \n",
    "        outputs = self.vit(pixel_values=pixel_values)\n",
    "        return outputs.logits\n",
    "        \n",
    "    def _step(self, batch, batch_idx):\n",
    "        pixel_values = batch['pixel_values']\n",
    "        labels = batch['labels']\n",
    "        # this calls the forward method\n",
    "        logits = self(pixel_values)\n",
    "\n",
    "        criterion = nn.CrossEntropyLoss()\n",
    "        loss = criterion(logits, labels)\n",
    "        # logits are usually of shape - (batch size, num classes)\n",
    "        # here return index of the max value along the last dimension (classes)\n",
    "        # shape of returned tensor is (batch_size,)\n",
    "        predictions = logits.argmax(-1)\n",
    "        correct = (predictions == labels).sum().item()\n",
    "        accuracy = correct/pixel_values.shape[0]\n",
    "\n",
    "        return loss, accuracy\n",
    "      \n",
    "    def training_step(self, batch, batch_idx):\n",
    "    # this does the expected stuff under the hood like:\n",
    "    # ```\n",
    "    # torch.set_grad_enabled(True)\n",
    "    # for batch_idx, batch in enumerate(train_dataloader):\n",
    "    #     loss = training_step(batch, batch_idx)\n",
    "    #     # clear gradients\n",
    "    #     optimizer.zero_grad()\n",
    "    #     # backward\n",
    "    #     loss.backward()\n",
    "    #     # update parameters\n",
    "    #     optimizer.step()\n",
    "    #```\n",
    "        loss, accuracy = self._step(batch, batch_idx)     \n",
    "        # logs metrics for each training_step,\n",
    "        # and the average across the epoch\n",
    "        self.log(\"training_loss\", loss)\n",
    "        self.log(\"training_accuracy\", accuracy)\n",
    "\n",
    "        return loss\n",
    "    \n",
    "    def validation_step(self, batch, batch_idx):\n",
    "        loss, accuracy = self._step(batch, batch_idx)     \n",
    "        self.log(\"validation_loss\", loss)\n",
    "        self.log(\"validation_accuracy\", accuracy)\n",
    "\n",
    "        return loss\n",
    "\n",
    "    def test_step(self, batch, batch_idx):\n",
    "        loss, accuracy = self._step(batch, batch_idx)     \n",
    "        self.log(f\"test_loss\", loss, on_epoch=True)\n",
    "        self.log(f\"test_acc\", accuracy, on_epoch=True)\n",
    "        \n",
    "        return loss\n",
    "\n",
    "    def configure_optimizers(self):\n",
    "        optimizer = optim.AdamW(self.parameters(), lr=self.hparams.lr)\n",
    "        # could skip the LR scheduler for this example\n",
    "        lr_scheduler = optim.lr_scheduler.MultiStepLR(optimizer, milestones=[100,150], gamma=0.1)\n",
    "        return [optimizer], [lr_scheduler]\n",
    "\n",
    "    def train_dataloader(self):\n",
    "        return train_loader\n",
    "\n",
    "    def val_dataloader(self):\n",
    "        return val_loader\n",
    "\n",
    "    def test_dataloader(self):\n",
    "        return test_loader"
   ]
  },
  {
   "cell_type": "markdown",
   "metadata": {},
   "source": [
    "## 5. Train"
   ]
  },
  {
   "cell_type": "code",
   "execution_count": 11,
   "metadata": {},
   "outputs": [],
   "source": [
    "wandb_logger = WandbLogger(project=\"Test ViT\", log_model=True)"
   ]
  },
  {
   "cell_type": "code",
   "execution_count": 12,
   "metadata": {},
   "outputs": [
    {
     "name": "stdout",
     "output_type": "stream",
     "text": [
      "hparams \"lr\":         0.0003\n",
      "\"num_labels\": 10\n"
     ]
    },
    {
     "name": "stderr",
     "output_type": "stream",
     "text": [
      "Some weights of ViTForImageClassification were not initialized from the model checkpoint at google/vit-base-patch16-224-in21k and are newly initialized: ['classifier.bias', 'classifier.weight']\n",
      "You should probably TRAIN this model on a down-stream task to be able to use it for predictions and inference.\n",
      "GPU available: True (mps), used: True\n",
      "TPU available: False, using: 0 TPU cores\n",
      "HPU available: False, using: 0 HPUs\n",
      "Failed to detect the name of this notebook, you can set it manually with the WANDB_NOTEBOOK_NAME environment variable to enable code saving.\n",
      "\u001b[34m\u001b[1mwandb\u001b[0m: Using wandb-core as the SDK backend.  Please refer to https://wandb.me/wandb-core for more information.\n",
      "\u001b[34m\u001b[1mwandb\u001b[0m: Currently logged in as: \u001b[33mr-jersakova\u001b[0m (\u001b[33mradka-j\u001b[0m). Use \u001b[1m`wandb login --relogin`\u001b[0m to force relogin\n"
     ]
    },
    {
     "data": {
      "text/html": [
       "Tracking run with wandb version 0.19.1"
      ],
      "text/plain": [
       "<IPython.core.display.HTML object>"
      ]
     },
     "metadata": {},
     "output_type": "display_data"
    },
    {
     "data": {
      "text/html": [
       "Run data is saved locally in <code>./wandb/run-20250102_170959-s7qibd80</code>"
      ],
      "text/plain": [
       "<IPython.core.display.HTML object>"
      ]
     },
     "metadata": {},
     "output_type": "display_data"
    },
    {
     "data": {
      "text/html": [
       "Syncing run <strong><a href='https://wandb.ai/radka-j/Test%20ViT/runs/s7qibd80' target=\"_blank\">fanciful-sponge-2</a></strong> to <a href='https://wandb.ai/radka-j/Test%20ViT' target=\"_blank\">Weights & Biases</a> (<a href='https://wandb.me/developer-guide' target=\"_blank\">docs</a>)<br>"
      ],
      "text/plain": [
       "<IPython.core.display.HTML object>"
      ]
     },
     "metadata": {},
     "output_type": "display_data"
    },
    {
     "data": {
      "text/html": [
       " View project at <a href='https://wandb.ai/radka-j/Test%20ViT' target=\"_blank\">https://wandb.ai/radka-j/Test%20ViT</a>"
      ],
      "text/plain": [
       "<IPython.core.display.HTML object>"
      ]
     },
     "metadata": {},
     "output_type": "display_data"
    },
    {
     "data": {
      "text/html": [
       " View run at <a href='https://wandb.ai/radka-j/Test%20ViT/runs/s7qibd80' target=\"_blank\">https://wandb.ai/radka-j/Test%20ViT/runs/s7qibd80</a>"
      ],
      "text/plain": [
       "<IPython.core.display.HTML object>"
      ]
     },
     "metadata": {},
     "output_type": "display_data"
    },
    {
     "name": "stderr",
     "output_type": "stream",
     "text": [
      "\n",
      "  | Name | Type                      | Params | Mode\n",
      "----------------------------------------------------------\n",
      "0 | vit  | ViTForImageClassification | 85.8 M | eval\n",
      "----------------------------------------------------------\n",
      "85.8 M    Trainable params\n",
      "0         Non-trainable params\n",
      "85.8 M    Total params\n",
      "343.225   Total estimated model params size (MB)\n",
      "0         Modules in train mode\n",
      "226       Modules in eval mode\n"
     ]
    },
    {
     "data": {
      "application/vnd.jupyter.widget-view+json": {
       "model_id": "3008e4bbf9ea4a7d9c627f0345f5518f",
       "version_major": 2,
       "version_minor": 0
      },
      "text/plain": [
       "Sanity Checking: |          | 0/? [00:00<?, ?it/s]"
      ]
     },
     "metadata": {},
     "output_type": "display_data"
    },
    {
     "name": "stderr",
     "output_type": "stream",
     "text": [
      "/Users/rjersakova/Documents/Projects/LDL/.venv/lib/python3.12/site-packages/pytorch_lightning/trainer/connectors/data_connector.py:425: The 'val_dataloader' does not have many workers which may be a bottleneck. Consider increasing the value of the `num_workers` argument` to `num_workers=10` in the `DataLoader` to improve performance.\n",
      "/Users/rjersakova/Documents/Projects/LDL/.venv/lib/python3.12/site-packages/pytorch_lightning/trainer/connectors/data_connector.py:425: The 'train_dataloader' does not have many workers which may be a bottleneck. Consider increasing the value of the `num_workers` argument` to `num_workers=10` in the `DataLoader` to improve performance.\n"
     ]
    },
    {
     "data": {
      "application/vnd.jupyter.widget-view+json": {
       "model_id": "9d062b49544a4441bf69ed92aff5a21c",
       "version_major": 2,
       "version_minor": 0
      },
      "text/plain": [
       "Training: |          | 0/? [00:00<?, ?it/s]"
      ]
     },
     "metadata": {},
     "output_type": "display_data"
    },
    {
     "data": {
      "application/vnd.jupyter.widget-view+json": {
       "model_id": "91686745e6694d4ea5f642b36f4d868f",
       "version_major": 2,
       "version_minor": 0
      },
      "text/plain": [
       "Validation: |          | 0/? [00:00<?, ?it/s]"
      ]
     },
     "metadata": {},
     "output_type": "display_data"
    },
    {
     "data": {
      "application/vnd.jupyter.widget-view+json": {
       "model_id": "588bf30b92d7445c9e31538fada511b8",
       "version_major": 2,
       "version_minor": 0
      },
      "text/plain": [
       "Validation: |          | 0/? [00:00<?, ?it/s]"
      ]
     },
     "metadata": {},
     "output_type": "display_data"
    },
    {
     "name": "stderr",
     "output_type": "stream",
     "text": [
      "`Trainer.fit` stopped: `max_epochs=2` reached.\n"
     ]
    }
   ],
   "source": [
    "model = ViTLightningModule()\n",
    "trainer = Trainer(accelerator=\"mps\", \n",
    "                  callbacks=[EarlyStopping(monitor='validation_loss'), \n",
    "                            ModelCheckpoint(save_weights_only=True, mode=\"max\", monitor=\"validation_accuracy\"),\n",
    "                            LearningRateMonitor(\"epoch\")],\n",
    "                  logger=wandb_logger,\n",
    "                  # if don't actually have the time to run this as long as need to and want \n",
    "                  # to see some results can set max_epochs here...\n",
    "                  max_epochs=2)\n",
    "trainer.fit(model)"
   ]
  },
  {
   "cell_type": "markdown",
   "metadata": {},
   "source": [
    "We can use the trainer.test() and trainer.validate() methods but notice that we could also just use one and pass in the appropriate dataset."
   ]
  },
  {
   "cell_type": "code",
   "execution_count": 13,
   "metadata": {},
   "outputs": [
    {
     "name": "stderr",
     "output_type": "stream",
     "text": [
      "/Users/rjersakova/Documents/Projects/LDL/.venv/lib/python3.12/site-packages/pytorch_lightning/trainer/connectors/checkpoint_connector.py:145: `.validate(ckpt_path=None)` was called without a model. The best model of the previous `fit` call will be used. You can pass `.validate(ckpt_path='best')` to use the best model or `.validate(ckpt_path='last')` to use the last model. If you pass a value, this warning will be silenced.\n",
      "Restoring states from the checkpoint path at ./Test ViT/s7qibd80/checkpoints/epoch=1-step=4000.ckpt\n",
      "Loaded model weights from the checkpoint at ./Test ViT/s7qibd80/checkpoints/epoch=1-step=4000.ckpt\n"
     ]
    },
    {
     "data": {
      "application/vnd.jupyter.widget-view+json": {
       "model_id": "241680942b0a4ad6a77f8c434d09c984",
       "version_major": 2,
       "version_minor": 0
      },
      "text/plain": [
       "Validation: |          | 0/? [00:00<?, ?it/s]"
      ]
     },
     "metadata": {},
     "output_type": "display_data"
    },
    {
     "data": {
      "text/plain": [
       "[{'validation_loss': 2.068443536758423,\n",
       "  'validation_accuracy': 0.17599999904632568}]"
      ]
     },
     "execution_count": 13,
     "metadata": {},
     "output_type": "execute_result"
    }
   ],
   "source": [
    "trainer.validate(verbose=False)"
   ]
  },
  {
   "cell_type": "code",
   "execution_count": 16,
   "metadata": {},
   "outputs": [
    {
     "name": "stderr",
     "output_type": "stream",
     "text": [
      "/Users/rjersakova/Documents/Projects/LDL/.venv/lib/python3.12/site-packages/pytorch_lightning/trainer/connectors/data_connector.py:425: The 'test_dataloader' does not have many workers which may be a bottleneck. Consider increasing the value of the `num_workers` argument` to `num_workers=10` in the `DataLoader` to improve performance.\n"
     ]
    },
    {
     "data": {
      "application/vnd.jupyter.widget-view+json": {
       "model_id": "2bb1a31953dc47d399d9d06e3d05fc5b",
       "version_major": 2,
       "version_minor": 0
      },
      "text/plain": [
       "Testing: |          | 0/? [00:00<?, ?it/s]"
      ]
     },
     "metadata": {},
     "output_type": "display_data"
    },
    {
     "data": {
      "text/plain": [
       "[{'test_loss': 2.068443536758423, 'test_acc': 0.17599999904632568}]"
      ]
     },
     "execution_count": 16,
     "metadata": {},
     "output_type": "execute_result"
    }
   ],
   "source": [
    "trainer.test(model, val_loader, verbose=False)"
   ]
  },
  {
   "cell_type": "code",
   "execution_count": 15,
   "metadata": {},
   "outputs": [
    {
     "name": "stderr",
     "output_type": "stream",
     "text": [
      "/Users/rjersakova/Documents/Projects/LDL/.venv/lib/python3.12/site-packages/pytorch_lightning/trainer/connectors/checkpoint_connector.py:145: `.test(ckpt_path=None)` was called without a model. The best model of the previous `fit` call will be used. You can pass `.test(ckpt_path='best')` to use the best model or `.test(ckpt_path='last')` to use the last model. If you pass a value, this warning will be silenced.\n",
      "Restoring states from the checkpoint path at ./Test ViT/s7qibd80/checkpoints/epoch=1-step=4000.ckpt\n",
      "Loaded model weights from the checkpoint at ./Test ViT/s7qibd80/checkpoints/epoch=1-step=4000.ckpt\n",
      "/Users/rjersakova/Documents/Projects/LDL/.venv/lib/python3.12/site-packages/pytorch_lightning/trainer/connectors/data_connector.py:425: The 'test_dataloader' does not have many workers which may be a bottleneck. Consider increasing the value of the `num_workers` argument` to `num_workers=10` in the `DataLoader` to improve performance.\n"
     ]
    },
    {
     "data": {
      "application/vnd.jupyter.widget-view+json": {
       "model_id": "c5b434d8553c428cabd92d9ff49c4308",
       "version_major": 2,
       "version_minor": 0
      },
      "text/plain": [
       "Testing: |          | 0/? [00:00<?, ?it/s]"
      ]
     },
     "metadata": {},
     "output_type": "display_data"
    },
    {
     "data": {
      "text/plain": [
       "[{'test_loss': 2.0710721015930176, 'test_acc': 0.20350000262260437}]"
      ]
     },
     "execution_count": 15,
     "metadata": {},
     "output_type": "execute_result"
    }
   ],
   "source": [
    "trainer.test(verbose=False)"
   ]
  },
  {
   "cell_type": "code",
   "execution_count": 14,
   "metadata": {},
   "outputs": [
    {
     "data": {
      "application/vnd.jupyter.widget-view+json": {
       "model_id": "9821fc521a9e43a198b6cc04e7760845",
       "version_major": 2,
       "version_minor": 0
      },
      "text/plain": [
       "Validation: |          | 0/? [00:00<?, ?it/s]"
      ]
     },
     "metadata": {},
     "output_type": "display_data"
    },
    {
     "data": {
      "text/plain": [
       "[{'validation_loss': 2.0710721015930176,\n",
       "  'validation_accuracy': 0.20350000262260437}]"
      ]
     },
     "execution_count": 14,
     "metadata": {},
     "output_type": "execute_result"
    }
   ],
   "source": [
    "trainer.validate(model, test_loader, verbose=False)"
   ]
  }
 ],
 "metadata": {
  "kernelspec": {
   "display_name": ".venv",
   "language": "python",
   "name": "python3"
  },
  "language_info": {
   "codemirror_mode": {
    "name": "ipython",
    "version": 3
   },
   "file_extension": ".py",
   "mimetype": "text/x-python",
   "name": "python",
   "nbconvert_exporter": "python",
   "pygments_lexer": "ipython3",
   "version": "3.12.4"
  }
 },
 "nbformat": 4,
 "nbformat_minor": 2
}
